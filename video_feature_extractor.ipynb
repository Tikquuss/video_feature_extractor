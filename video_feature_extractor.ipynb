{
  "nbformat": 4,
  "nbformat_minor": 0,
  "metadata": {
    "colab": {
      "name": "video_feature_extractor",
      "provenance": [],
      "collapsed_sections": [],
      "authorship_tag": "ABX9TyOCwy+i4Oa3xyhp5s0PRNF4",
      "include_colab_link": true
    },
    "kernelspec": {
      "name": "python3",
      "display_name": "Python 3"
    },
    "accelerator": "GPU"
  },
  "cells": [
    {
      "cell_type": "markdown",
      "metadata": {
        "id": "view-in-github",
        "colab_type": "text"
      },
      "source": [
        "<a href=\"https://colab.research.google.com/github/zeufack/video_feature_extractor/blob/master/video_feature_extractor.ipynb\" target=\"_parent\"><img src=\"https://colab.research.google.com/assets/colab-badge.svg\" alt=\"Open In Colab\"/></a>"
      ]
    },
    {
      "cell_type": "markdown",
      "metadata": {
        "id": "1UYyS82vzBRp"
      },
      "source": [
        ""
      ]
    },
    {
      "cell_type": "code",
      "metadata": {
        "id": "sVmt3Y8KzBez",
        "outputId": "4b86f357-5d8d-45f5-8d7b-d35a1da46543",
        "colab": {
          "base_uri": "https://localhost:8080/"
        }
      },
      "source": [
        "! git clone https://github.com/zeufack/video_feature_extractor\n",
        "%cd video_feature_extractor"
      ],
      "execution_count": null,
      "outputs": [
        {
          "output_type": "stream",
          "text": [
            "Cloning into 'video_feature_extractor'...\n",
            "remote: Enumerating objects: 9, done.\u001b[K\n",
            "remote: Counting objects: 100% (9/9), done.\u001b[K\n",
            "remote: Compressing objects: 100% (9/9), done.\u001b[K\n",
            "remote: Total 101 (delta 4), reused 0 (delta 0), pack-reused 92\u001b[K\n",
            "Receiving objects: 100% (101/101), 165.41 KiB | 16.54 MiB/s, done.\n",
            "Resolving deltas: 100% (42/42), done.\n",
            "/content/video_feature_extractor\n"
          ],
          "name": "stdout"
        }
      ]
    },
    {
      "cell_type": "code",
      "metadata": {
        "id": "gKX4O59KzroV",
        "outputId": "b6be3982-edba-4df0-c5d3-83e9b4a62f76",
        "colab": {
          "base_uri": "https://localhost:8080/"
        }
      },
      "source": [
        "! pip install pytube\n",
        "! pip install ffmpeg-python"
      ],
      "execution_count": null,
      "outputs": [
        {
          "output_type": "stream",
          "text": [
            "Collecting pytube\n",
            "  Downloading https://files.pythonhosted.org/packages/0f/0e/690174e22cd7cd5203e5859a660903d0ea176ce5b3ac87ecb31d8ed5ee02/pytube-9.7.0-py3-none-any.whl\n",
            "Requirement already satisfied: typing-extensions in /usr/local/lib/python3.6/dist-packages (from pytube) (3.7.4.3)\n",
            "Installing collected packages: pytube\n",
            "Successfully installed pytube-9.7.0\n",
            "Collecting ffmpeg-python\n",
            "  Downloading https://files.pythonhosted.org/packages/d7/0c/56be52741f75bad4dc6555991fabd2e07b432d333da82c11ad701123888a/ffmpeg_python-0.2.0-py3-none-any.whl\n",
            "Requirement already satisfied: future in /usr/local/lib/python3.6/dist-packages (from ffmpeg-python) (0.16.0)\n",
            "Installing collected packages: ffmpeg-python\n",
            "Successfully installed ffmpeg-python-0.2.0\n"
          ],
          "name": "stdout"
        }
      ]
    },
    {
      "cell_type": "code",
      "metadata": {
        "id": "XeSWqxgFz1Fz",
        "outputId": "a4313192-24d4-4ce4-c5da-c69e729d23e8",
        "colab": {
          "base_uri": "https://localhost:8080/",
          "height": 35
        }
      },
      "source": [
        "import pytube\n",
        "url = 'https://youtu.be/WrZcOvqYQms'\n",
        "youtube = pytube.YouTube(url)\n",
        "video = youtube.streams.first()\n",
        "video.download(output_path = '/content', filename = \"test\")"
      ],
      "execution_count": null,
      "outputs": [
        {
          "output_type": "execute_result",
          "data": {
            "application/vnd.google.colaboratory.intrinsic+json": {
              "type": "string"
            },
            "text/plain": [
              "'/content/test.mp4'"
            ]
          },
          "metadata": {
            "tags": []
          },
          "execution_count": 3
        }
      ]
    },
    {
      "cell_type": "code",
      "metadata": {
        "id": "KXlJe_3R1VMx"
      },
      "source": [
        "import pandas as pd\n",
        "df = [\n",
        "      [\"/content/test.mp4\", \"/content/test.npy\"]\n",
        "]\n",
        "pd.DataFrame(df).to_csv(\"/content/test.csv\", index=False, header = [\"video_path\",\"feature_path\"])"
      ],
      "execution_count": null,
      "outputs": []
    },
    {
      "cell_type": "code",
      "metadata": {
        "id": "wIVP32Kk2N8E",
        "outputId": "f2c55ba1-d0b1-43e3-b5c8-d4f97605fb54",
        "colab": {
          "base_uri": "https://localhost:8080/"
        }
      },
      "source": [
        "! python extract.py --csv=/content/test.csv --type=2d --batch_size=1 --num_decoding_thread=4"
      ],
      "execution_count": null,
      "outputs": [
        {
          "output_type": "stream",
          "text": [
            "Loading 2D-ResNet-152 ...\n",
            "Downloading: \"https://download.pytorch.org/models/resnet152-b121ed2d.pth\" to /root/.cache/torch/hub/checkpoints/resnet152-b121ed2d.pth\n",
            "100% 230M/230M [00:00<00:00, 267MB/s]\n",
            "loaded\n",
            "Decoding video: /content/test.mp4\n",
            "Computing features of video 1/1: /content/test.mp4\n"
          ],
          "name": "stdout"
        }
      ]
    },
    {
      "cell_type": "code",
      "metadata": {
        "id": "CfDQH7Tz_UfA",
        "outputId": "2349c47e-6ec4-4379-caa9-d719b22e3538",
        "colab": {
          "base_uri": "https://localhost:8080/"
        }
      },
      "source": [
        "import numpy as np\n",
        "v = np.load(\"/content/test.npy\")\n",
        "v.shape, v"
      ],
      "execution_count": null,
      "outputs": [
        {
          "output_type": "execute_result",
          "data": {
            "text/plain": [
              "((10, 2048),\n",
              " array([[0.003317 , 0.02034  , 0.007587 , ..., 0.00355  , 0.00662  ,\n",
              "         0.005398 ],\n",
              "        [0.01804  , 0.00991  , 0.01901  , ..., 0.003231 , 0.00967  ,\n",
              "         0.004494 ],\n",
              "        [0.02592  , 0.003693 , 0.0082   , ..., 0.02347  , 0.003172 ,\n",
              "         0.00881  ],\n",
              "        ...,\n",
              "        [0.01556  , 0.02022  , 0.0691   , ..., 0.006485 , 0.00876  ,\n",
              "         0.010635 ],\n",
              "        [0.02156  , 0.01503  , 0.004612 , ..., 0.008965 , 0.00151  ,\n",
              "         0.010315 ],\n",
              "        [0.05832  , 0.010735 , 0.008736 , ..., 0.04663  , 0.002493 ,\n",
              "         0.0006633]], dtype=float16))"
            ]
          },
          "metadata": {
            "tags": []
          },
          "execution_count": 6
        }
      ]
    }
  ]
}